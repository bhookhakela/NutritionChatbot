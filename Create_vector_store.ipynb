{
 "cells": [
  {
   "cell_type": "code",
   "id": "initial_id",
   "metadata": {
    "collapsed": true,
    "ExecuteTime": {
     "end_time": "2024-07-19T11:39:56.154069Z",
     "start_time": "2024-07-19T11:39:56.142703Z"
    }
   },
   "source": [
    "from dotenv import load_dotenv\n",
    "import os\n",
    "\n",
    "load_dotenv()\n",
    "\n",
    "Langchain_API_KEY=os.getenv(\"Langchain_API_KEY\")"
   ],
   "outputs": [],
   "execution_count": 2
  },
  {
   "metadata": {
    "ExecuteTime": {
     "end_time": "2024-07-19T12:18:58.404287Z",
     "start_time": "2024-07-19T12:18:55.823309Z"
    }
   },
   "cell_type": "code",
   "source": [
    "import bs4\n",
    "from langchain_community.document_loaders import WebBaseLoader\n",
    "websites_strainers=[\n",
    "    [\"https://www.medkart.in/blog/5-ways-to-spot-harmful-ingredients-on-food-labels-or-read-food-labels-carefully\",bs4.SoupStrainer(class_=\"ast-post-format- ast-no-thumb single-layout-1\")],\n",
    "   [\"https://www.nhs.uk/live-well/eat-well/food-guidelines-and-food-labels/how-to-read-food-labels/\",bs4.SoupStrainer(class_=\"nhsuk-grid-column-two-thirds\")],\n",
    "    [\"https://www.acko.com/health-insurance/how-to-read-food-labels-for-nutritional-choices/\",bs4.SoupStrainer(class_=\"sc-bdVaJa sc-bwzfXH sc-hEsumM hfMQBV\")],\n",
    "    # [\"https://www.fda.gov/food/nutrition-facts-label/how-understand-and-use-nutrition-facts-label\",bs4.SoupStrainer(class_=\"article main-content container-fluid\")],\n",
    "    [\"https://timesofindia.indiatimes.com/life-style/health-fitness/diet/your-guide-to-reading-the-nutrition-label-right/articleshow/58622679.cms\",bs4.SoupStrainer(class_=\"_s30J clearfix  \")]\n",
    "]\n",
    "all_articles=[]\n",
    "for url,strainer in websites_strainers:\n",
    "    loader = WebBaseLoader(\n",
    "        web_paths=(url,),\n",
    "        bs_kwargs={\"parse_only\": strainer},\n",
    "    )\n",
    "    article = loader.load()\n",
    "    all_articles.append(article)"
   ],
   "id": "f67a69f1099e7929",
   "outputs": [],
   "execution_count": 34
  },
  {
   "metadata": {
    "ExecuteTime": {
     "end_time": "2024-07-19T12:18:58.407747Z",
     "start_time": "2024-07-19T12:18:58.405108Z"
    }
   },
   "cell_type": "code",
   "source": "all_articles[3]\n",
   "id": "769673598c82afc1",
   "outputs": [
    {
     "data": {
      "text/plain": [
       "[Document(metadata={'source': 'https://timesofindia.indiatimes.com/life-style/health-fitness/diet/your-guide-to-reading-the-nutrition-label-right/articleshow/58622679.cms'}, page_content=\"A lot of us get a sense of confidence even by an attempt to have read the nutrition label that stays mostly misunderstood and half misinterpreted. If you want to count your calories, nutrition and sugars right, it is imperative that you know the clever marketing strategies used by food companies to make us believe we are eating healthy. The fancy terms like ‘brown sugar’ or ‘malt syrup’ are no less harmful; the terms like ‘natural’ and ‘energy-boosting’ are neither.If you want to be able to read a label right, you must know what's right and what's wrong. Lying somewhere in the middle of the two would be even worse. Here’s your guide to understanding a nutrition label the right way.Start with serving and caloriesThis will help you get your quantity right. The daily calorie intake for a healthy person should be 1800 to 2200, depending on your workout and gender.Understand your fatsSaturated fats: This is the kind, which is often contained in milk, butter and meat. It is capable of raising your cholesterol levels, hence, should be consumed in a limited quantity. Ideally, one should not consume more than 10 per cent of his daily calorie requirement of saturated fats.Trans fats: This one is a more processed form of fat, hardened by the process of hydrogenation. It is usually done to increase its shelf life. It is used in pies and crackers to make them crispy and flaky. This too can raise your cholesterol levels and hence, should be consumed as little as possible.Remember, it can also be put on labels as ‘partially hydrogenated oil’. This, however, means that the food does not contain over 0.5 grams of trans fat.Unsaturated fats: This is the kind you should be looking for as it is a healthy kind of fat. It is mostly found in oils from plants and can, in fact, lower or correct your cholesterol levels. It can be of two types:- Monosaturated: It is usually found in foods like avocado, nuts, olive and peanut. It is good for reducing your bad cholesterol levels, or LDL.- Polysaturated: This one is contained in vegetable oils such as safflower, sesame and sunflower oils and in seafood. This is also good for reducing bad cholesterol. It is of two types: Omega-3 fatty acids and Omega-6 fatty acids. The former is found in foods that include plants like walnuts and soybean, fatty fish, flaxseeds and salmon. The latter is found in foods including vegetable oils such as soybean and corn oil.Your nutrition label can even have the term ‘Total fats’. This includes saturated, polyunsaturated, monounsaturated, and trans fat. Food companies are not required to list monounsaturated and polyunsaturated fat separately.What you need moreFibers, vitamins, proteins and minerals, like calcium and iron, are essentials. The more they are, the better it is for you.What you need to limitCholesterol and sodium should be big no-nos for you. For cholesterol limit, a healthy person should not consume more than 300 milligrams per day. The American Heart Association recommends no more than 2,300 milligrams, approximately one teaspoon, of sodium per day.The sneaky sugarsDue to the clever marketing strategies of food companies, sugar is now often veiled as fancy terms which you can easily overlook. These corporations may be coming up with new terms each day for this sweet devil, but it is sugar and nothing else for our bodies. Beware the following terms as they mean nothing but sugar.Agave NectarBrown sugarCane crystalsCane juiceCarob Syrup Corn Syrup Crystalline Fructose Date Sugar Fruit JuiceGrape Sugar HoneyMalt syrupMaple Syrup Rice Syrup According to the American Heart Association, a man should not consume over 37.5 grams or 9 teaspoons of sugar each day, while women, should not consume 25 grams or 7 teaspoons of sugar each day. But this is the maximum limit, the lower your consumption, the better it is for your body.Understanding Percent Daily ValuePercent Daily Value is the percentage written against every ingredient in the list. It basically refers to the percentage you get in each serving of that particular ingredient against its daily requirement for the day. For example, if a label lists 10 per cent for calcium, it means that 10 per cent of your daily calcium requirement will be fulfilled by one serving of that food.But you need to remember that Daily Value percentage is calculated by assuming that a person’s daily calorie intake is 2000. For anything more or less, you need to do some maths.\")]"
      ]
     },
     "execution_count": 35,
     "metadata": {},
     "output_type": "execute_result"
    }
   ],
   "execution_count": 35
  },
  {
   "metadata": {
    "ExecuteTime": {
     "end_time": "2024-07-19T12:57:50.479600Z",
     "start_time": "2024-07-19T12:57:50.464994Z"
    }
   },
   "cell_type": "code",
   "source": [
    "from langchain_text_splitters import RecursiveCharacterTextSplitter\n",
    "text_splitter = RecursiveCharacterTextSplitter(\n",
    "    chunk_size=300,\n",
    "    chunk_overlap=30,\n",
    ")\n",
    "article_splits = []\n",
    "for article in all_articles:\n",
    "    article_splits.append(text_splitter.split_documents(article))\n",
    "print(type(article_splits[0][0]))\n"
   ],
   "id": "fec66c439d0ea8c9",
   "outputs": [
    {
     "name": "stdout",
     "output_type": "stream",
     "text": [
      "<class 'langchain_core.documents.base.Document'>\n"
     ]
    }
   ],
   "execution_count": 58
  },
  {
   "metadata": {
    "ExecuteTime": {
     "end_time": "2024-07-19T12:58:00.056400Z",
     "start_time": "2024-07-19T12:57:50.938409Z"
    }
   },
   "cell_type": "code",
   "source": [
    "from langchain_community.vectorstores import FAISS\n",
    "from langchain_community.embeddings import OllamaEmbeddings\n",
    "flattened_article_splits=[split for subsplit in article_splits for split in subsplit]\n",
    "# print(type(flattened_article_splits[0]))\n",
    "vector_store=FAISS.from_documents(flattened_article_splits,OllamaEmbeddings(model='mxbai-embed-large'))"
   ],
   "id": "803670e22d9a9162",
   "outputs": [],
   "execution_count": 59
  },
  {
   "metadata": {
    "ExecuteTime": {
     "end_time": "2024-07-19T12:58:00.065031Z",
     "start_time": "2024-07-19T12:58:00.060142Z"
    }
   },
   "cell_type": "code",
   "source": [
    "len_vector_store = len(vector_store.index_to_docstore_id)\n",
    "print(len_vector_store)"
   ],
   "id": "18dec5128417d13e",
   "outputs": [
    {
     "name": "stdout",
     "output_type": "stream",
     "text": [
      "124\n"
     ]
    }
   ],
   "execution_count": 60
  },
  {
   "metadata": {
    "ExecuteTime": {
     "end_time": "2024-07-19T13:18:16.615304Z",
     "start_time": "2024-07-19T13:18:12.939688Z"
    }
   },
   "cell_type": "code",
   "source": [
    "query = \"Where are nutrition Labels?\"\n",
    "docs = vector_store.similarity_search_with_score(query,top_k=5)\n",
    "print(type(docs[0][0]))\n",
    "for doc in docs:\n",
    "    print(f'''{doc[0].page_content} : Score={doc[1]} \\n''')\n",
    "vector_store.save_local(\"./data\", \"vector_store\")"
   ],
   "id": "e69a99932f0990c5",
   "outputs": [
    {
     "name": "stdout",
     "output_type": "stream",
     "text": [
      "<class 'langchain_core.documents.base.Document'>\n",
      "Nutrition information labels on the back or side of packagingMost pre-packed foods have a nutrition information label on the back or side of the packaging. These labels must include the amount of energy in kilojoules (kJ) and kilocalories (kcal), usually referred to as calories.They must also : Score=116.32060241699219 \n",
      "\n",
      "sugar or salt.Some nutrition information labels on the back or side of packaging also provide information about reference intakes. : Score=117.79996490478516 \n",
      "\n",
      "nutrition labels also provide information about reference intakes. : Score=118.61625671386719 \n",
      "\n",
      "to read food labels to make informed nutritional choicesWhat is a nutrition facts label?A nutrition facts label is a set format that provides basic nutritional information about a food product. It typically includes information on calories, protein, total fat, saturated and trans fats, : Score=120.43757629394531 \n",
      "\n"
     ]
    }
   ],
   "execution_count": 78
  }
 ],
 "metadata": {
  "kernelspec": {
   "display_name": "Python 3",
   "language": "python",
   "name": "python3"
  },
  "language_info": {
   "codemirror_mode": {
    "name": "ipython",
    "version": 2
   },
   "file_extension": ".py",
   "mimetype": "text/x-python",
   "name": "python",
   "nbconvert_exporter": "python",
   "pygments_lexer": "ipython2",
   "version": "2.7.6"
  }
 },
 "nbformat": 4,
 "nbformat_minor": 5
}
