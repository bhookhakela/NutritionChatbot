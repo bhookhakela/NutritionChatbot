{
 "cells": [
  {
   "cell_type": "code",
   "id": "initial_id",
   "metadata": {
    "collapsed": true,
    "ExecuteTime": {
     "end_time": "2024-07-21T13:20:12.746771Z",
     "start_time": "2024-07-21T13:20:12.075933Z"
    }
   },
   "source": [
    "from langchain_community.vectorstores import FAISS\n",
    "from langchain_community.embeddings import OllamaEmbeddings\n",
    "from langchain_community.llms import Ollama"
   ],
   "outputs": [],
   "execution_count": 1
  },
  {
   "metadata": {
    "ExecuteTime": {
     "end_time": "2024-07-21T13:20:12.804309Z",
     "start_time": "2024-07-21T13:20:12.747671Z"
    }
   },
   "cell_type": "code",
   "source": [
    "embedding=OllamaEmbeddings(model='mxbai-embed-large')\n",
    "db=FAISS.load_local(folder_path=\"./data\",index_name=\"vector_store\",embeddings=embedding,allow_dangerous_deserialization=True)\n",
    "llm = Ollama(\n",
    "    model=\"phi3:mini\"\n",
    ") "
   ],
   "id": "3e43cd7f957b92c0",
   "outputs": [],
   "execution_count": 2
  },
  {
   "metadata": {},
   "cell_type": "markdown",
   "source": "To stream the chunks when they arrive to avoid latency",
   "id": "6af13f68a4c901ed"
  },
  {
   "metadata": {
    "ExecuteTime": {
     "end_time": "2024-07-21T13:20:25.871348Z",
     "start_time": "2024-07-21T13:20:12.804935Z"
    }
   },
   "cell_type": "code",
   "source": [
    "query = \"Tell me a joke\"\n",
    "for chunks in llm.stream(query):\n",
    "    print(chunks)"
   ],
   "id": "31756572bae0bdf4",
   "outputs": [
    {
     "name": "stdout",
     "output_type": "stream",
     "text": [
      " Why\n",
      " don\n",
      "'\n",
      "t\n",
      " scient\n",
      "ists\n",
      " trust\n",
      " atoms\n",
      "?\n",
      " Because\n",
      " they\n",
      " make\n",
      " up\n",
      " everything\n",
      "!\n",
      "\n"
     ]
    }
   ],
   "execution_count": 3
  },
  {
   "metadata": {
    "ExecuteTime": {
     "end_time": "2024-07-21T13:20:27.528010Z",
     "start_time": "2024-07-21T13:20:25.876688Z"
    }
   },
   "cell_type": "code",
   "source": "llm.invoke('tell me a joke')",
   "id": "1458f860b4aae938",
   "outputs": [
    {
     "data": {
      "text/plain": [
       "\" Why don't scientists trust atoms?\\n\\n\\nBecause they make up everything!\""
      ]
     },
     "execution_count": 4,
     "metadata": {},
     "output_type": "execute_result"
    }
   ],
   "execution_count": 4
  },
  {
   "metadata": {
    "ExecuteTime": {
     "end_time": "2024-07-21T13:20:27.685247Z",
     "start_time": "2024-07-21T13:20:27.531897Z"
    }
   },
   "cell_type": "code",
   "source": [
    "from langchain_core.prompts import ChatPromptTemplate\n",
    "\n",
    "prompt = ChatPromptTemplate.from_template(\n",
    "    \"\"\"\n",
    "            <|system|>\n",
    "            You are a helpful assistant.<|end|>\n",
    "            <|user|>\n",
    "            Answer the following question based on the given context in 100-150 words:\n",
    "            {context}\n",
    "            Question:\n",
    "            {input}\n",
    "            <|end|>\n",
    "            <|assistant|>\n",
    "\n",
    "\"\"\"\n",
    ")"
   ],
   "id": "98cefb3f3179bf0e",
   "outputs": [],
   "execution_count": 5
  },
  {
   "metadata": {
    "ExecuteTime": {
     "end_time": "2024-07-21T13:20:27.738349Z",
     "start_time": "2024-07-21T13:20:27.688818Z"
    }
   },
   "cell_type": "code",
   "source": [
    "from langchain.chains.retrieval import create_retrieval_chain\n",
    "from langchain.chains.combine_documents import create_stuff_documents_chain\n",
    "\n",
    "docs_chain = create_stuff_documents_chain(llm, prompt)\n",
    "retriever = db.as_retriever()\n",
    "retrieval_chain = create_retrieval_chain(retriever, docs_chain)\n"
   ],
   "id": "1c2a71f3d0bdeeb9",
   "outputs": [],
   "execution_count": 6
  },
  {
   "metadata": {
    "ExecuteTime": {
     "end_time": "2024-07-21T13:21:34.084688Z",
     "start_time": "2024-07-21T13:20:58.133099Z"
    }
   },
   "cell_type": "code",
   "source": [
    "response = retrieval_chain.invoke({\"input\": \"Is this food product Healthy if its ingredients are: Refined Sunflower Oil \\n and its Nutritional Information is: Energy: 900 Kcal, Protein: 0g, Carbohydrates: 0g, Fat: 100g, Saturated Fat: 10g,\"})\n",
    "print(response['answer'])"
   ],
   "id": "5720814b513ac207",
   "outputs": [
    {
     "name": "stdout",
     "output_type": "stream",
     "text": [
      " This food product does not seem healthy based on the provided information. Although it contains refined sunflower oil as its main fat source instead of unhealthier saturated or trans fats commonly found in processed products, there are several issues to consider: \n",
      "1. It has no protein (0g), which is essential for a balanced diet and helps build and repair body tissues. The human body requires adequate amounts of high-quality proteins from various sources like lean meats, fish, legumes, nuts, and dairy products to maintain optimal health. \n",
      "2. It has zero carbohydrates (0g), which is also concerning as our bodies rely on this macronutrient for energy. Carbs are found in foods such as fruits, vegetables, whole grains, legumes, and dairy products. A diet devoid of these healthy sources could lead to nutritional deficiencies over time if consumed regularly or extensively without proper compensation from other macronutrients (proteins & fats). \n",
      "3. It has a high fat content of about 100g per serving, which is quite substantial considering that an average adult should consume between 20-45% of their daily calories as dietary fat and only up to around the recommended amount for saturated fat (less than or equal to 30 grams).\n",
      "Thus, while this food product may provide energy through its high fat content in refined sunflower oil form, it lacks essential nutrients like protein and carbohydrates. It is advisable not to rely on a single type of food for overall health as one's diet should be diverse encompassing different macronutrients along with micronutrients (vitamins & minerals) in appropriate quantities, always mindful about calorie intake.\n"
     ]
    }
   ],
   "execution_count": 7
  },
  {
   "metadata": {
    "ExecuteTime": {
     "end_time": "2024-07-21T19:05:16.765502Z",
     "start_time": "2024-07-21T19:05:16.749162Z"
    }
   },
   "cell_type": "code",
   "source": "print(response)",
   "id": "71ea8743f39f3c53",
   "outputs": [
    {
     "name": "stdout",
     "output_type": "stream",
     "text": [
      "{'input': 'Is this food product Healthy if its ingredients are: Refined Sunflower Oil \\n and its Nutritional Information is: Energy: 900 Kcal, Protein: 0g, Carbohydrates: 0g, Fat: 100g, Saturated Fat: 10g,', 'context': [Document(metadata={'source': 'https://www.nhs.uk/live-well/eat-well/food-guidelines-and-food-labels/how-to-read-food-labels/'}, page_content='to as calories.They must also include information on fat, saturates (saturated fat), carbohydrate, sugars, protein and salt. They may also include other nutrients, like fibre.All nutrition information is provided per 100 grams or per 100 millilitres and sometimes per portion of the food or'), Document(metadata={'source': 'https://www.acko.com/health-insurance/how-to-read-food-labels-for-nutritional-choices/'}, page_content='saturated and trans fats, carbohydrates, fibre, sugar and vitamins and minerals.How do I know if a food item contains unhealthy trans fats?If a food label claims to contain no trans fats, check the ingredients list to make sure it’s true. If trans fats are listed, it means the food item contains'), Document(metadata={'source': 'https://www.acko.com/health-insurance/how-to-read-food-labels-for-nutritional-choices/'}, page_content='contained in one serving of the food item.The total amount of fat, in grams, contained in one serving of the food item.The unhealthy fats which are best avoided.The total amount of carbohydrates, in grams, contained in one serving of the food item.The total amount of dietary fibre, in grams,'), Document(metadata={'source': 'https://www.nhs.uk/live-well/eat-well/food-guidelines-and-food-labels/how-to-read-food-labels/'}, page_content=\"and salt, and the\\xa0amount of energy (in kJ and kcal)\\xa0in a serving or portion of the food or drink. It may also provide the amount of kJ and kcal per 100g or per 100ml.But be aware that the manufacturer's idea of a portion may be different\\xa0from yours.Some\\xa0front-of-pack nutrition\\xa0labels also provide\")], 'answer': \" This food product does not seem healthy based on the provided information. Although it contains refined sunflower oil as its main fat source instead of unhealthier saturated or trans fats commonly found in processed products, there are several issues to consider: \\n1. It has no protein (0g), which is essential for a balanced diet and helps build and repair body tissues. The human body requires adequate amounts of high-quality proteins from various sources like lean meats, fish, legumes, nuts, and dairy products to maintain optimal health. \\n2. It has zero carbohydrates (0g), which is also concerning as our bodies rely on this macronutrient for energy. Carbs are found in foods such as fruits, vegetables, whole grains, legumes, and dairy products. A diet devoid of these healthy sources could lead to nutritional deficiencies over time if consumed regularly or extensively without proper compensation from other macronutrients (proteins & fats). \\n3. It has a high fat content of about 100g per serving, which is quite substantial considering that an average adult should consume between 20-45% of their daily calories as dietary fat and only up to around the recommended amount for saturated fat (less than or equal to 30 grams).\\nThus, while this food product may provide energy through its high fat content in refined sunflower oil form, it lacks essential nutrients like protein and carbohydrates. It is advisable not to rely on a single type of food for overall health as one's diet should be diverse encompassing different macronutrients along with micronutrients (vitamins & minerals) in appropriate quantities, always mindful about calorie intake.\"}\n"
     ]
    }
   ],
   "execution_count": 10
  },
  {
   "metadata": {
    "ExecuteTime": {
     "end_time": "2024-07-21T19:24:26.561856Z",
     "start_time": "2024-07-21T19:24:26.546459Z"
    }
   },
   "cell_type": "code",
   "source": [
    "output={'answer':response['answer'],'sources':[]}\n",
    "for docs in response['context']:\n",
    "    output['sources'].append(docs.dict()['metadata']['source'])\n",
    "print(output)"
   ],
   "id": "507b2d33a4eb3daa",
   "outputs": [
    {
     "name": "stdout",
     "output_type": "stream",
     "text": [
      "{'answer': \" This food product does not seem healthy based on the provided information. Although it contains refined sunflower oil as its main fat source instead of unhealthier saturated or trans fats commonly found in processed products, there are several issues to consider: \\n1. It has no protein (0g), which is essential for a balanced diet and helps build and repair body tissues. The human body requires adequate amounts of high-quality proteins from various sources like lean meats, fish, legumes, nuts, and dairy products to maintain optimal health. \\n2. It has zero carbohydrates (0g), which is also concerning as our bodies rely on this macronutrient for energy. Carbs are found in foods such as fruits, vegetables, whole grains, legumes, and dairy products. A diet devoid of these healthy sources could lead to nutritional deficiencies over time if consumed regularly or extensively without proper compensation from other macronutrients (proteins & fats). \\n3. It has a high fat content of about 100g per serving, which is quite substantial considering that an average adult should consume between 20-45% of their daily calories as dietary fat and only up to around the recommended amount for saturated fat (less than or equal to 30 grams).\\nThus, while this food product may provide energy through its high fat content in refined sunflower oil form, it lacks essential nutrients like protein and carbohydrates. It is advisable not to rely on a single type of food for overall health as one's diet should be diverse encompassing different macronutrients along with micronutrients (vitamins & minerals) in appropriate quantities, always mindful about calorie intake.\", 'sources': ['https://www.nhs.uk/live-well/eat-well/food-guidelines-and-food-labels/how-to-read-food-labels/', 'https://www.acko.com/health-insurance/how-to-read-food-labels-for-nutritional-choices/', 'https://www.acko.com/health-insurance/how-to-read-food-labels-for-nutritional-choices/', 'https://www.nhs.uk/live-well/eat-well/food-guidelines-and-food-labels/how-to-read-food-labels/']}\n"
     ]
    }
   ],
   "execution_count": 17
  },
  {
   "metadata": {
    "ExecuteTime": {
     "end_time": "2024-07-19T14:08:07.152974Z",
     "start_time": "2024-07-19T14:07:37.533690Z"
    }
   },
   "cell_type": "code",
   "source": [
    "llm.invoke(''''<|system|>\n",
    "            You are a helpful assistant.<|end|>\n",
    "            <|user|>\n",
    "            Answer the following question in 100-150 words:\n",
    "            Question:\n",
    "            Is this food product Healthy if its ingredients are: Refined Sunflower Oil \\n and its Nutritional Information is: Energy: 900 Kcal, Protein: 0g, Carbohydrates: 0g, Fat: 100g, Saturated Fat: 10g\n",
    "            <|end|>\n",
    "            <|assistant|>''')"
   ],
   "id": "eedaf34e7500232d",
   "outputs": [
    {
     "data": {
      "text/plain": [
       "\" The provided food product appears to have a high energy density with only fat content and no significant amounts of protein or carbohydrates. Given that refined sunflower oil is mainly composed of unsaturated fats—which are considered healthier options in comparison to saturated fats found in animal products—it could be argued from this perspective alone that the product might have a place on your diet as part of moderation and balance with other foods. However, its high caloric content relative to zero protein or carbohydrate intake makes it an energy-dense option rather than healthy in terms of overall nutritional benefits for most people's needs.\\n\\nMoreover, the absence of fiber (assuming no other ingredients are present) is a downside since dietary fibers contribute to digestive health and satiety without adding calories or fat directly into our bodies—a factor often overlooked when considering nutritional value. High intake levels might also lead to increased energy consumption, potentially leading to weight gain if not balanced with physical activity for some individuals who are sedentary.\\n\\nConclusively, while refined sunflower oil has its merits as a source of unsaturated fats when consumed in moderation and alongside other nutrient-rich foods, this particular product's composition suggests it should not be classified as healthy due to the high fat content with no added benefits from proteins or carbohydrates. It is always crucial to evaluate such products within a broader dietary context and personalized nutritional requirements for overall well-being, considering factors like age, sex, physical activity levels, health status, etc.\""
      ]
     },
     "execution_count": 25,
     "metadata": {},
     "output_type": "execute_result"
    }
   ],
   "execution_count": 25
  },
  {
   "metadata": {
    "ExecuteTime": {
     "end_time": "2024-07-19T14:11:31.758987Z",
     "start_time": "2024-07-19T14:10:58.673022Z"
    }
   },
   "cell_type": "code",
   "source": [
    "llm.invoke('''Out of the following answers below which one is the better answer to the query: \"Is this food product Healthy if its ingredients are: Refined Sunflower Oil \\n and its Nutritional Information is: Energy: 900 Kcal, Protein: 0g, Carbohydrates: 0g, Fat: 100g, Saturated Fat: 10g\"?\n",
    "ANSWER1:This food product does not appear to be a healthy choice based on the given ingredients and nutritional information. Although it contains sunflower oil as an initial source of fat, which is generally considered better than other oils due to its unsaturated fats composition, the fact that 100g of this product provides you with such a high amount (90% or more) calories from fat alone suggests imbalance in your diet. Moreover, no protein and carbohydrates are present, which indicates lacking essential nutrients typically found in food products for balanced eating – proteins provide energy as well as critical roles in repair and growth of tissues; while complex carbs supply the body with a steady release of energy throughout. The product also contains 10g or about 25% saturated fats, which are known to raise cholesterol levels potentially leading towards heart diseases when consumed excessively over time. Also note that no details on dietary fibre and other nutrients like sugars is provided but high fat content alone suggests this isn't the best choice for a healthy balanced meal or snack, especially if eaten frequently due to its calorie-dense nature (90% of energy from fats). Always remember that while checking labels can give you an idea about what nutrients are included in your food choices and their amounts per 100g/ml serving size, it's important also consider the overall diet context. Moderation is key to a healthy eating pattern even with seemingly better-quality ingredients like sunflower oil here mentioned but without balanced nutrients intake in general and other food items consumed throughout the day or meal plan period.\n",
    "ANSWER2:The provided food product appears to have a high energy density with only fat content and no significant amounts of protein or carbohydrates. Given that refined sunflower oil is mainly composed of unsaturated fats—which are considered healthier options in comparison to saturated fats found in animal products—it could be argued from this perspective alone that the product might have a place on your diet as part of moderation and balance with other foods. However, its high caloric content relative to zero protein or carbohydrate intake makes it an energy-dense option rather than healthy in terms of overall nutritional benefits for most people's needs.\\n\\nMoreover, the absence of fiber (assuming no other ingredients are present) is a downside since dietary fibers contribute to digestive health and satiety without adding calories or fat directly into our bodies—a factor often overlooked when considering nutritional value. High intake levels might also lead to increased energy consumption, potentially leading to weight gain if not balanced with physical activity for some individuals who are sedentary.\\n\\nConclusively, while refined sunflower oil has its merits as a source of unsaturated fats when consumed in moderation and alongside other nutrient-rich foods, this particular product's composition suggests it should not be classified as healthy due to the high fat content with no added benefits from proteins or carbohydrates. It is always crucial to evaluate such products within a broader dietary context and personalized nutritional requirements for overall well-being, considering factors like age, sex, physical activity levels, health status, etc.\n",
    "''')"
   ],
   "id": "3dd58bc0a147155b",
   "outputs": [
    {
     "data": {
      "text/plain": [
       "' ANSWER1 provides the most comprehensive evaluation of whether this food product can be considered \"healthy\" based on its ingredients (Refined Sunflower Oil) and nutritional information: Energy 900 Kcal; Protein 0g; Carbohydrates 0g; Fat 100g, Saturated Fat 10g. Although sunflower oil is a better fat source compared to saturated fats found in animal products, the fact that this product consists of such high amounts (96%) calories from fat alone with no presence of essential nutrients like proteins or carbohydrates raises concerns regarding its contribution towards balanced and healthy eating. It\\'s critical to remember a well-balanced diet includes various macronutrients, not just fats for energy provision but also fibers (carbs), and essential amino acids found in proteins as they contribute significantly beyond mere caloric intake towards overall nutrition—repair, growth of tissues etc. Absence of these crucial components along with high saturated fat content suggest that this product should not be considered healthy due to potential negative impacts on cholesterol levels when consumed excessively over time and possible weight gain issues if the calorie consumption isn\\'t balanced by physical activity, particularly in sedentary individuals. Furthermore, diet diversity is important for optimal nutrition absorption from different sources of food intake—it’s crucial to consume a variety of wholesome ingredients alongside this product when considering its inclusion as part of your regular eating pattern or snack options within the context of moderation and balanced diet.'"
      ]
     },
     "execution_count": 26,
     "metadata": {},
     "output_type": "execute_result"
    }
   ],
   "execution_count": 26
  },
  {
   "metadata": {},
   "cell_type": "code",
   "outputs": [],
   "execution_count": null,
   "source": "",
   "id": "30db900c52f9bba3"
  }
 ],
 "metadata": {
  "kernelspec": {
   "display_name": "Python 3",
   "language": "python",
   "name": "python3"
  },
  "language_info": {
   "codemirror_mode": {
    "name": "ipython",
    "version": 2
   },
   "file_extension": ".py",
   "mimetype": "text/x-python",
   "name": "python",
   "nbconvert_exporter": "python",
   "pygments_lexer": "ipython2",
   "version": "2.7.6"
  }
 },
 "nbformat": 4,
 "nbformat_minor": 5
}
